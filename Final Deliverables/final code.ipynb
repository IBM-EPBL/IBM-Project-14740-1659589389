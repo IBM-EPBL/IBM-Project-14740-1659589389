{
 "cells": [
  {
   "cell_type": "code",
   "execution_count": 16,
   "metadata": {
    "_cell_guid": "b1076dfc-b9ad-4769-8c92-a6c4dae69d19",
    "_uuid": "8f2839f25d086af736a60e9eeb907d3b93b6e0e5",
    "execution": {
     "iopub.execute_input": "2022-11-13T23:40:14.443696Z",
     "iopub.status.busy": "2022-11-13T23:40:14.443307Z",
     "iopub.status.idle": "2022-11-13T23:40:15.589531Z",
     "shell.execute_reply": "2022-11-13T23:40:15.588532Z",
     "shell.execute_reply.started": "2022-11-13T23:40:14.443663Z"
    }
   },
   "outputs": [],
   "source": [
    "import numpy as np\n",
    "import pandas as pd\n",
    "from pathlib import Path\n",
    "import os.path\n",
    "\n",
    "import tensorflow as tf"
   ]
  },
  {
   "cell_type": "code",
   "execution_count": 2,
   "metadata": {
    "execution": {
     "iopub.execute_input": "2022-11-13T23:33:21.416871Z",
     "iopub.status.busy": "2022-11-13T23:33:21.416354Z",
     "iopub.status.idle": "2022-11-13T23:33:21.477674Z",
     "shell.execute_reply": "2022-11-13T23:33:21.476618Z",
     "shell.execute_reply.started": "2022-11-13T23:33:21.416823Z"
    }
   },
   "outputs": [
    {
     "data": {
      "text/plain": [
       "(288, 432, 3)"
      ]
     },
     "execution_count": 2,
     "metadata": {},
     "output_type": "execute_result"
    }
   ],
   "source": [
    "import cv2\n",
    "path =r'../input/ecg-image-data/ECG_Image_data/test/F/F113.png'\n",
    "x=cv2.imread(path)\n",
    "x.shape"
   ]
  },
  {
   "cell_type": "markdown",
   "metadata": {},
   "source": [
    "# N: Normal beat\n",
    "# S: Supraventricular premature beat\n",
    "# V: Premature ventricular contraction\n",
    "# F: Fusion of ventricular and normal beat\n",
    "# Q: Unclassifiable beat\n"
   ]
  },
  {
   "cell_type": "markdown",
   "metadata": {},
   "source": [
    "# train set"
   ]
  },
  {
   "cell_type": "code",
   "execution_count": 3,
   "metadata": {
    "execution": {
     "iopub.execute_input": "2022-11-13T23:33:25.195653Z",
     "iopub.status.busy": "2022-11-13T23:33:25.195170Z",
     "iopub.status.idle": "2022-11-13T23:36:50.926231Z",
     "shell.execute_reply": "2022-11-13T23:36:50.925092Z",
     "shell.execute_reply.started": "2022-11-13T23:33:25.195604Z"
    }
   },
   "outputs": [
    {
     "name": "stdout",
     "output_type": "stream",
     "text": [
      "CPU times: user 2.49 s, sys: 2.43 s, total: 4.92 s\n",
      "Wall time: 3min 25s\n"
     ]
    },
    {
     "data": {
      "text/html": [
       "<div>\n",
       "<style scoped>\n",
       "    .dataframe tbody tr th:only-of-type {\n",
       "        vertical-align: middle;\n",
       "    }\n",
       "\n",
       "    .dataframe tbody tr th {\n",
       "        vertical-align: top;\n",
       "    }\n",
       "\n",
       "    .dataframe thead th {\n",
       "        text-align: right;\n",
       "    }\n",
       "</style>\n",
       "<table border=\"1\" class=\"dataframe\">\n",
       "  <thead>\n",
       "    <tr style=\"text-align: right;\">\n",
       "      <th></th>\n",
       "      <th>Filepath</th>\n",
       "      <th>Label</th>\n",
       "    </tr>\n",
       "  </thead>\n",
       "  <tbody>\n",
       "    <tr>\n",
       "      <th>0</th>\n",
       "      <td>../input/ecg-image-data/ECG_Image_data/train/N...</td>\n",
       "      <td>N</td>\n",
       "    </tr>\n",
       "    <tr>\n",
       "      <th>1</th>\n",
       "      <td>../input/ecg-image-data/ECG_Image_data/train/N...</td>\n",
       "      <td>N</td>\n",
       "    </tr>\n",
       "    <tr>\n",
       "      <th>2</th>\n",
       "      <td>../input/ecg-image-data/ECG_Image_data/train/N...</td>\n",
       "      <td>N</td>\n",
       "    </tr>\n",
       "    <tr>\n",
       "      <th>3</th>\n",
       "      <td>../input/ecg-image-data/ECG_Image_data/train/N...</td>\n",
       "      <td>N</td>\n",
       "    </tr>\n",
       "    <tr>\n",
       "      <th>4</th>\n",
       "      <td>../input/ecg-image-data/ECG_Image_data/train/N...</td>\n",
       "      <td>N</td>\n",
       "    </tr>\n",
       "    <tr>\n",
       "      <th>...</th>\n",
       "      <td>...</td>\n",
       "      <td>...</td>\n",
       "    </tr>\n",
       "    <tr>\n",
       "      <th>99194</th>\n",
       "      <td>../input/ecg-image-data/ECG_Image_data/train/V...</td>\n",
       "      <td>V</td>\n",
       "    </tr>\n",
       "    <tr>\n",
       "      <th>99195</th>\n",
       "      <td>../input/ecg-image-data/ECG_Image_data/train/V...</td>\n",
       "      <td>V</td>\n",
       "    </tr>\n",
       "    <tr>\n",
       "      <th>99196</th>\n",
       "      <td>../input/ecg-image-data/ECG_Image_data/train/V...</td>\n",
       "      <td>V</td>\n",
       "    </tr>\n",
       "    <tr>\n",
       "      <th>99197</th>\n",
       "      <td>../input/ecg-image-data/ECG_Image_data/train/V...</td>\n",
       "      <td>V</td>\n",
       "    </tr>\n",
       "    <tr>\n",
       "      <th>99198</th>\n",
       "      <td>../input/ecg-image-data/ECG_Image_data/train/V...</td>\n",
       "      <td>V</td>\n",
       "    </tr>\n",
       "  </tbody>\n",
       "</table>\n",
       "<p>99199 rows × 2 columns</p>\n",
       "</div>"
      ],
      "text/plain": [
       "                                                Filepath Label\n",
       "0      ../input/ecg-image-data/ECG_Image_data/train/N...     N\n",
       "1      ../input/ecg-image-data/ECG_Image_data/train/N...     N\n",
       "2      ../input/ecg-image-data/ECG_Image_data/train/N...     N\n",
       "3      ../input/ecg-image-data/ECG_Image_data/train/N...     N\n",
       "4      ../input/ecg-image-data/ECG_Image_data/train/N...     N\n",
       "...                                                  ...   ...\n",
       "99194  ../input/ecg-image-data/ECG_Image_data/train/V...     V\n",
       "99195  ../input/ecg-image-data/ECG_Image_data/train/V...     V\n",
       "99196  ../input/ecg-image-data/ECG_Image_data/train/V...     V\n",
       "99197  ../input/ecg-image-data/ECG_Image_data/train/V...     V\n",
       "99198  ../input/ecg-image-data/ECG_Image_data/train/V...     V\n",
       "\n",
       "[99199 rows x 2 columns]"
      ]
     },
     "execution_count": 3,
     "metadata": {},
     "output_type": "execute_result"
    }
   ],
   "source": [
    "%%time\n",
    "dir = Path('../input/ecg-image-data/ECG_Image_data/train')\n",
    "\n",
    "filepaths = list(dir.glob(r'**/*.png'))\n",
    "labels = list(map(lambda x: os.path.split(os.path.split(x)[0])[1], filepaths))\n",
    "\n",
    "filepaths = pd.Series(filepaths, name='Filepath').astype(str)\n",
    "labels = pd.Series(labels, name='Label')\n",
    "\n",
    "dataframe = pd.concat([filepaths , labels] , axis=1)\n",
    "dataframe"
   ]
  },
  {
   "cell_type": "code",
   "execution_count": 4,
   "metadata": {
    "execution": {
     "iopub.execute_input": "2022-11-13T23:38:08.090135Z",
     "iopub.status.busy": "2022-11-13T23:38:08.089646Z",
     "iopub.status.idle": "2022-11-13T23:38:08.104008Z",
     "shell.execute_reply": "2022-11-13T23:38:08.102840Z",
     "shell.execute_reply.started": "2022-11-13T23:38:08.090095Z"
    }
   },
   "outputs": [
    {
     "data": {
      "text/plain": [
       "N    75709\n",
       "M     8405\n",
       "Q     6431\n",
       "V     5789\n",
       "S     2223\n",
       "F      642\n",
       "Name: Label, dtype: int64"
      ]
     },
     "execution_count": 4,
     "metadata": {},
     "output_type": "execute_result"
    }
   ],
   "source": [
    "dataframe['Label'].value_counts()"
   ]
  },
  {
   "cell_type": "code",
   "execution_count": 5,
   "metadata": {
    "execution": {
     "iopub.execute_input": "2022-11-13T23:38:10.764794Z",
     "iopub.status.busy": "2022-11-13T23:38:10.764405Z",
     "iopub.status.idle": "2022-11-13T23:38:10.777851Z",
     "shell.execute_reply": "2022-11-13T23:38:10.776645Z",
     "shell.execute_reply.started": "2022-11-13T23:38:10.764759Z"
    }
   },
   "outputs": [
    {
     "data": {
      "text/plain": [
       "array(['N', 'F', 'M', 'Q', 'S', 'V'], dtype=object)"
      ]
     },
     "execution_count": 5,
     "metadata": {},
     "output_type": "execute_result"
    }
   ],
   "source": [
    "dataframe['Label'].unique()"
   ]
  },
  {
   "cell_type": "code",
   "execution_count": 9,
   "metadata": {
    "execution": {
     "iopub.execute_input": "2022-11-13T23:38:47.096766Z",
     "iopub.status.busy": "2022-11-13T23:38:47.096349Z",
     "iopub.status.idle": "2022-11-13T23:38:47.140140Z",
     "shell.execute_reply": "2022-11-13T23:38:47.139016Z",
     "shell.execute_reply.started": "2022-11-13T23:38:47.096729Z"
    }
   },
   "outputs": [
    {
     "data": {
      "text/plain": [
       "N    2223\n",
       "Q    2223\n",
       "M    2223\n",
       "S    2223\n",
       "V    2223\n",
       "Name: Label, dtype: int64"
      ]
     },
     "execution_count": 9,
     "metadata": {},
     "output_type": "execute_result"
    }
   ],
   "source": [
    "samples = []\n",
    "for category in ['N', 'M', 'Q', 'S', 'V']:\n",
    "    category_slice = dataframe.query(\"Label == @category\")\n",
    "    samples.append(category_slice.sample(2223, random_state=1))\n",
    "\n",
    "dataframe_train = pd.concat(samples, axis=0).sample(frac=1.0, random_state=1).reset_index(drop=True)\n",
    "dataframe_train['Label'].value_counts()"
   ]
  },
  {
   "cell_type": "code",
   "execution_count": null,
   "metadata": {},
   "outputs": [],
   "source": [
    "dir = Path('../input/ecg-image-data/ECG_Image_data/train')\n",
    "\n",
    "filepaths = list(dir.glob(r'F/*.png'))\n",
    "labels = list(map(lambda x: os.path.split(os.path.split(x)[0])[1], filepaths))\n",
    "\n",
    "filepaths = pd.Series(filepaths, name='Filepath').astype(str)\n",
    "labels = pd.Series(labels, name='Label')\n",
    "\n",
    "F = pd.concat([filepaths , labels] , axis=1)\n",
    "F"
   ]
  },
  {
   "cell_type": "code",
   "execution_count": null,
   "metadata": {},
   "outputs": [],
   "source": [
    "dataframe_train = pd.concat([F , dataframe1] , axis=0)\n",
    "dataframe_train['Label'].value_counts()"
   ]
  },
  {
   "cell_type": "code",
   "execution_count": 11,
   "metadata": {
    "execution": {
     "iopub.execute_input": "2022-11-13T23:39:38.209015Z",
     "iopub.status.busy": "2022-11-13T23:39:38.208453Z",
     "iopub.status.idle": "2022-11-13T23:39:38.221498Z",
     "shell.execute_reply": "2022-11-13T23:39:38.220264Z",
     "shell.execute_reply.started": "2022-11-13T23:39:38.208961Z"
    }
   },
   "outputs": [
    {
     "data": {
      "text/html": [
       "<div>\n",
       "<style scoped>\n",
       "    .dataframe tbody tr th:only-of-type {\n",
       "        vertical-align: middle;\n",
       "    }\n",
       "\n",
       "    .dataframe tbody tr th {\n",
       "        vertical-align: top;\n",
       "    }\n",
       "\n",
       "    .dataframe thead th {\n",
       "        text-align: right;\n",
       "    }\n",
       "</style>\n",
       "<table border=\"1\" class=\"dataframe\">\n",
       "  <thead>\n",
       "    <tr style=\"text-align: right;\">\n",
       "      <th></th>\n",
       "      <th>Filepath</th>\n",
       "      <th>Label</th>\n",
       "    </tr>\n",
       "  </thead>\n",
       "  <tbody>\n",
       "    <tr>\n",
       "      <th>0</th>\n",
       "      <td>../input/ecg-image-data/ECG_Image_data/train/N...</td>\n",
       "      <td>N</td>\n",
       "    </tr>\n",
       "    <tr>\n",
       "      <th>1</th>\n",
       "      <td>../input/ecg-image-data/ECG_Image_data/train/Q...</td>\n",
       "      <td>Q</td>\n",
       "    </tr>\n",
       "    <tr>\n",
       "      <th>2</th>\n",
       "      <td>../input/ecg-image-data/ECG_Image_data/train/N...</td>\n",
       "      <td>N</td>\n",
       "    </tr>\n",
       "    <tr>\n",
       "      <th>3</th>\n",
       "      <td>../input/ecg-image-data/ECG_Image_data/train/M...</td>\n",
       "      <td>M</td>\n",
       "    </tr>\n",
       "    <tr>\n",
       "      <th>4</th>\n",
       "      <td>../input/ecg-image-data/ECG_Image_data/train/S...</td>\n",
       "      <td>S</td>\n",
       "    </tr>\n",
       "    <tr>\n",
       "      <th>...</th>\n",
       "      <td>...</td>\n",
       "      <td>...</td>\n",
       "    </tr>\n",
       "    <tr>\n",
       "      <th>11110</th>\n",
       "      <td>../input/ecg-image-data/ECG_Image_data/train/S...</td>\n",
       "      <td>S</td>\n",
       "    </tr>\n",
       "    <tr>\n",
       "      <th>11111</th>\n",
       "      <td>../input/ecg-image-data/ECG_Image_data/train/V...</td>\n",
       "      <td>V</td>\n",
       "    </tr>\n",
       "    <tr>\n",
       "      <th>11112</th>\n",
       "      <td>../input/ecg-image-data/ECG_Image_data/train/N...</td>\n",
       "      <td>N</td>\n",
       "    </tr>\n",
       "    <tr>\n",
       "      <th>11113</th>\n",
       "      <td>../input/ecg-image-data/ECG_Image_data/train/Q...</td>\n",
       "      <td>Q</td>\n",
       "    </tr>\n",
       "    <tr>\n",
       "      <th>11114</th>\n",
       "      <td>../input/ecg-image-data/ECG_Image_data/train/N...</td>\n",
       "      <td>N</td>\n",
       "    </tr>\n",
       "  </tbody>\n",
       "</table>\n",
       "<p>11115 rows × 2 columns</p>\n",
       "</div>"
      ],
      "text/plain": [
       "                                                Filepath Label\n",
       "0      ../input/ecg-image-data/ECG_Image_data/train/N...     N\n",
       "1      ../input/ecg-image-data/ECG_Image_data/train/Q...     Q\n",
       "2      ../input/ecg-image-data/ECG_Image_data/train/N...     N\n",
       "3      ../input/ecg-image-data/ECG_Image_data/train/M...     M\n",
       "4      ../input/ecg-image-data/ECG_Image_data/train/S...     S\n",
       "...                                                  ...   ...\n",
       "11110  ../input/ecg-image-data/ECG_Image_data/train/S...     S\n",
       "11111  ../input/ecg-image-data/ECG_Image_data/train/V...     V\n",
       "11112  ../input/ecg-image-data/ECG_Image_data/train/N...     N\n",
       "11113  ../input/ecg-image-data/ECG_Image_data/train/Q...     Q\n",
       "11114  ../input/ecg-image-data/ECG_Image_data/train/N...     N\n",
       "\n",
       "[11115 rows x 2 columns]"
      ]
     },
     "execution_count": 11,
     "metadata": {},
     "output_type": "execute_result"
    }
   ],
   "source": [
    "dataframe_train"
   ]
  },
  {
   "cell_type": "markdown",
   "metadata": {},
   "source": [
    "# test set"
   ]
  },
  {
   "cell_type": "code",
   "execution_count": 10,
   "metadata": {
    "execution": {
     "iopub.execute_input": "2022-11-13T23:38:53.635701Z",
     "iopub.status.busy": "2022-11-13T23:38:53.635317Z",
     "iopub.status.idle": "2022-11-13T23:39:38.206233Z",
     "shell.execute_reply": "2022-11-13T23:39:38.205090Z",
     "shell.execute_reply.started": "2022-11-13T23:38:53.635662Z"
    }
   },
   "outputs": [
    {
     "name": "stdout",
     "output_type": "stream",
     "text": [
      "CPU times: user 469 ms, sys: 478 ms, total: 947 ms\n",
      "Wall time: 44.6 s\n"
     ]
    },
    {
     "data": {
      "text/html": [
       "<div>\n",
       "<style scoped>\n",
       "    .dataframe tbody tr th:only-of-type {\n",
       "        vertical-align: middle;\n",
       "    }\n",
       "\n",
       "    .dataframe tbody tr th {\n",
       "        vertical-align: top;\n",
       "    }\n",
       "\n",
       "    .dataframe thead th {\n",
       "        text-align: right;\n",
       "    }\n",
       "</style>\n",
       "<table border=\"1\" class=\"dataframe\">\n",
       "  <thead>\n",
       "    <tr style=\"text-align: right;\">\n",
       "      <th></th>\n",
       "      <th>Filepath</th>\n",
       "      <th>Label</th>\n",
       "    </tr>\n",
       "  </thead>\n",
       "  <tbody>\n",
       "    <tr>\n",
       "      <th>0</th>\n",
       "      <td>../input/ecg-image-data/ECG_Image_data/test/N/...</td>\n",
       "      <td>N</td>\n",
       "    </tr>\n",
       "    <tr>\n",
       "      <th>1</th>\n",
       "      <td>../input/ecg-image-data/ECG_Image_data/test/N/...</td>\n",
       "      <td>N</td>\n",
       "    </tr>\n",
       "    <tr>\n",
       "      <th>2</th>\n",
       "      <td>../input/ecg-image-data/ECG_Image_data/test/N/...</td>\n",
       "      <td>N</td>\n",
       "    </tr>\n",
       "    <tr>\n",
       "      <th>3</th>\n",
       "      <td>../input/ecg-image-data/ECG_Image_data/test/N/...</td>\n",
       "      <td>N</td>\n",
       "    </tr>\n",
       "    <tr>\n",
       "      <th>4</th>\n",
       "      <td>../input/ecg-image-data/ECG_Image_data/test/N/...</td>\n",
       "      <td>N</td>\n",
       "    </tr>\n",
       "    <tr>\n",
       "      <th>...</th>\n",
       "      <td>...</td>\n",
       "      <td>...</td>\n",
       "    </tr>\n",
       "    <tr>\n",
       "      <th>24794</th>\n",
       "      <td>../input/ecg-image-data/ECG_Image_data/test/V/...</td>\n",
       "      <td>V</td>\n",
       "    </tr>\n",
       "    <tr>\n",
       "      <th>24795</th>\n",
       "      <td>../input/ecg-image-data/ECG_Image_data/test/V/...</td>\n",
       "      <td>V</td>\n",
       "    </tr>\n",
       "    <tr>\n",
       "      <th>24796</th>\n",
       "      <td>../input/ecg-image-data/ECG_Image_data/test/V/...</td>\n",
       "      <td>V</td>\n",
       "    </tr>\n",
       "    <tr>\n",
       "      <th>24797</th>\n",
       "      <td>../input/ecg-image-data/ECG_Image_data/test/V/...</td>\n",
       "      <td>V</td>\n",
       "    </tr>\n",
       "    <tr>\n",
       "      <th>24798</th>\n",
       "      <td>../input/ecg-image-data/ECG_Image_data/test/V/...</td>\n",
       "      <td>V</td>\n",
       "    </tr>\n",
       "  </tbody>\n",
       "</table>\n",
       "<p>24799 rows × 2 columns</p>\n",
       "</div>"
      ],
      "text/plain": [
       "                                                Filepath Label\n",
       "0      ../input/ecg-image-data/ECG_Image_data/test/N/...     N\n",
       "1      ../input/ecg-image-data/ECG_Image_data/test/N/...     N\n",
       "2      ../input/ecg-image-data/ECG_Image_data/test/N/...     N\n",
       "3      ../input/ecg-image-data/ECG_Image_data/test/N/...     N\n",
       "4      ../input/ecg-image-data/ECG_Image_data/test/N/...     N\n",
       "...                                                  ...   ...\n",
       "24794  ../input/ecg-image-data/ECG_Image_data/test/V/...     V\n",
       "24795  ../input/ecg-image-data/ECG_Image_data/test/V/...     V\n",
       "24796  ../input/ecg-image-data/ECG_Image_data/test/V/...     V\n",
       "24797  ../input/ecg-image-data/ECG_Image_data/test/V/...     V\n",
       "24798  ../input/ecg-image-data/ECG_Image_data/test/V/...     V\n",
       "\n",
       "[24799 rows x 2 columns]"
      ]
     },
     "execution_count": 10,
     "metadata": {},
     "output_type": "execute_result"
    }
   ],
   "source": [
    "%%time\n",
    "dir = Path('../input/ecg-image-data/ECG_Image_data/test')\n",
    "\n",
    "filepaths = list(dir.glob(r'**/*.png'))\n",
    "labels = list(map(lambda x: os.path.split(os.path.split(x)[0])[1], filepaths))\n",
    "\n",
    "filepaths = pd.Series(filepaths, name='Filepath').astype(str)\n",
    "labels = pd.Series(labels, name='Label')\n",
    "\n",
    "dataframe_test = pd.concat([filepaths , labels] , axis=1)\n",
    "dataframe_test"
   ]
  },
  {
   "cell_type": "code",
   "execution_count": 12,
   "metadata": {
    "execution": {
     "iopub.execute_input": "2022-11-13T23:39:48.610130Z",
     "iopub.status.busy": "2022-11-13T23:39:48.609720Z",
     "iopub.status.idle": "2022-11-13T23:39:48.621822Z",
     "shell.execute_reply": "2022-11-13T23:39:48.620593Z",
     "shell.execute_reply.started": "2022-11-13T23:39:48.610090Z"
    }
   },
   "outputs": [
    {
     "data": {
      "text/plain": [
       "N    18926\n",
       "M     2101\n",
       "Q     1608\n",
       "V     1447\n",
       "S      556\n",
       "F      161\n",
       "Name: Label, dtype: int64"
      ]
     },
     "execution_count": 12,
     "metadata": {},
     "output_type": "execute_result"
    }
   ],
   "source": [
    "dataframe_test['Label'].value_counts()"
   ]
  },
  {
   "cell_type": "code",
   "execution_count": 13,
   "metadata": {
    "execution": {
     "iopub.execute_input": "2022-11-13T23:39:52.920162Z",
     "iopub.status.busy": "2022-11-13T23:39:52.919766Z",
     "iopub.status.idle": "2022-11-13T23:39:52.951970Z",
     "shell.execute_reply": "2022-11-13T23:39:52.951049Z",
     "shell.execute_reply.started": "2022-11-13T23:39:52.920128Z"
    }
   },
   "outputs": [
    {
     "data": {
      "text/plain": [
       "V    556\n",
       "S    556\n",
       "M    556\n",
       "N    556\n",
       "Q    556\n",
       "Name: Label, dtype: int64"
      ]
     },
     "execution_count": 13,
     "metadata": {},
     "output_type": "execute_result"
    }
   ],
   "source": [
    "samples = []\n",
    "for category in ['N', 'M', 'Q', 'S', 'V']:\n",
    "    category_slice = dataframe_test.query(\"Label == @category\")\n",
    "    samples.append(category_slice.sample(556, random_state=1))\n",
    "\n",
    "dataframe_test = pd.concat(samples, axis=0).sample(frac=1.0, random_state=1).reset_index(drop=True)\n",
    "dataframe_test['Label'].value_counts()"
   ]
  },
  {
   "cell_type": "code",
   "execution_count": null,
   "metadata": {},
   "outputs": [],
   "source": [
    "dir = Path('../input/ecg-image-data/ECG_Image_data/test')\n",
    "\n",
    "filepaths = list(dir.glob(r'F/*.png'))\n",
    "labels = list(map(lambda x: os.path.split(os.path.split(x)[0])[1], filepaths))\n",
    "\n",
    "filepaths = pd.Series(filepaths, name='Filepath').astype(str)\n",
    "labels = pd.Series(labels, name='Label')\n",
    "\n",
    "F1 = pd.concat([filepaths , labels] , axis=1)\n",
    "F1"
   ]
  },
  {
   "cell_type": "code",
   "execution_count": null,
   "metadata": {},
   "outputs": [],
   "source": [
    "dataframe_test = pd.concat([F1 , dataframe_test] , axis=0)\n",
    "dataframe_test['Label'].value_counts()"
   ]
  },
  {
   "cell_type": "code",
   "execution_count": 14,
   "metadata": {
    "execution": {
     "iopub.execute_input": "2022-11-13T23:40:01.417100Z",
     "iopub.status.busy": "2022-11-13T23:40:01.416684Z",
     "iopub.status.idle": "2022-11-13T23:40:01.431582Z",
     "shell.execute_reply": "2022-11-13T23:40:01.430399Z",
     "shell.execute_reply.started": "2022-11-13T23:40:01.417065Z"
    }
   },
   "outputs": [
    {
     "data": {
      "text/html": [
       "<div>\n",
       "<style scoped>\n",
       "    .dataframe tbody tr th:only-of-type {\n",
       "        vertical-align: middle;\n",
       "    }\n",
       "\n",
       "    .dataframe tbody tr th {\n",
       "        vertical-align: top;\n",
       "    }\n",
       "\n",
       "    .dataframe thead th {\n",
       "        text-align: right;\n",
       "    }\n",
       "</style>\n",
       "<table border=\"1\" class=\"dataframe\">\n",
       "  <thead>\n",
       "    <tr style=\"text-align: right;\">\n",
       "      <th></th>\n",
       "      <th>Filepath</th>\n",
       "      <th>Label</th>\n",
       "    </tr>\n",
       "  </thead>\n",
       "  <tbody>\n",
       "    <tr>\n",
       "      <th>0</th>\n",
       "      <td>../input/ecg-image-data/ECG_Image_data/test/V/...</td>\n",
       "      <td>V</td>\n",
       "    </tr>\n",
       "    <tr>\n",
       "      <th>1</th>\n",
       "      <td>../input/ecg-image-data/ECG_Image_data/test/V/...</td>\n",
       "      <td>V</td>\n",
       "    </tr>\n",
       "    <tr>\n",
       "      <th>2</th>\n",
       "      <td>../input/ecg-image-data/ECG_Image_data/test/S/...</td>\n",
       "      <td>S</td>\n",
       "    </tr>\n",
       "    <tr>\n",
       "      <th>3</th>\n",
       "      <td>../input/ecg-image-data/ECG_Image_data/test/M/...</td>\n",
       "      <td>M</td>\n",
       "    </tr>\n",
       "    <tr>\n",
       "      <th>4</th>\n",
       "      <td>../input/ecg-image-data/ECG_Image_data/test/N/...</td>\n",
       "      <td>N</td>\n",
       "    </tr>\n",
       "    <tr>\n",
       "      <th>...</th>\n",
       "      <td>...</td>\n",
       "      <td>...</td>\n",
       "    </tr>\n",
       "    <tr>\n",
       "      <th>2775</th>\n",
       "      <td>../input/ecg-image-data/ECG_Image_data/test/V/...</td>\n",
       "      <td>V</td>\n",
       "    </tr>\n",
       "    <tr>\n",
       "      <th>2776</th>\n",
       "      <td>../input/ecg-image-data/ECG_Image_data/test/M/...</td>\n",
       "      <td>M</td>\n",
       "    </tr>\n",
       "    <tr>\n",
       "      <th>2777</th>\n",
       "      <td>../input/ecg-image-data/ECG_Image_data/test/M/...</td>\n",
       "      <td>M</td>\n",
       "    </tr>\n",
       "    <tr>\n",
       "      <th>2778</th>\n",
       "      <td>../input/ecg-image-data/ECG_Image_data/test/N/...</td>\n",
       "      <td>N</td>\n",
       "    </tr>\n",
       "    <tr>\n",
       "      <th>2779</th>\n",
       "      <td>../input/ecg-image-data/ECG_Image_data/test/M/...</td>\n",
       "      <td>M</td>\n",
       "    </tr>\n",
       "  </tbody>\n",
       "</table>\n",
       "<p>2780 rows × 2 columns</p>\n",
       "</div>"
      ],
      "text/plain": [
       "                                               Filepath Label\n",
       "0     ../input/ecg-image-data/ECG_Image_data/test/V/...     V\n",
       "1     ../input/ecg-image-data/ECG_Image_data/test/V/...     V\n",
       "2     ../input/ecg-image-data/ECG_Image_data/test/S/...     S\n",
       "3     ../input/ecg-image-data/ECG_Image_data/test/M/...     M\n",
       "4     ../input/ecg-image-data/ECG_Image_data/test/N/...     N\n",
       "...                                                 ...   ...\n",
       "2775  ../input/ecg-image-data/ECG_Image_data/test/V/...     V\n",
       "2776  ../input/ecg-image-data/ECG_Image_data/test/M/...     M\n",
       "2777  ../input/ecg-image-data/ECG_Image_data/test/M/...     M\n",
       "2778  ../input/ecg-image-data/ECG_Image_data/test/N/...     N\n",
       "2779  ../input/ecg-image-data/ECG_Image_data/test/M/...     M\n",
       "\n",
       "[2780 rows x 2 columns]"
      ]
     },
     "execution_count": 14,
     "metadata": {},
     "output_type": "execute_result"
    }
   ],
   "source": [
    "dataframe_test"
   ]
  },
  {
   "cell_type": "markdown",
   "metadata": {},
   "source": [
    "# Image generators"
   ]
  },
  {
   "cell_type": "code",
   "execution_count": 17,
   "metadata": {
    "execution": {
     "iopub.execute_input": "2022-11-13T23:40:20.890374Z",
     "iopub.status.busy": "2022-11-13T23:40:20.889726Z",
     "iopub.status.idle": "2022-11-13T23:40:21.198321Z",
     "shell.execute_reply": "2022-11-13T23:40:21.197326Z",
     "shell.execute_reply.started": "2022-11-13T23:40:20.890337Z"
    }
   },
   "outputs": [],
   "source": [
    "train_generator = tf.keras.preprocessing.image.ImageDataGenerator(\n",
    "    rescale=1./255,\n",
    "    brightness_range=[0.2,1.0],\n",
    "    validation_split=0.2\n",
    "  \n",
    ")\n",
    "\n",
    "test_generator = tf.keras.preprocessing.image.ImageDataGenerator(\n",
    "    rescale=1./255,\n",
    ")"
   ]
  },
  {
   "cell_type": "code",
   "execution_count": 18,
   "metadata": {
    "execution": {
     "iopub.execute_input": "2022-11-13T23:40:23.879996Z",
     "iopub.status.busy": "2022-11-13T23:40:23.879586Z",
     "iopub.status.idle": "2022-11-13T23:40:41.478452Z",
     "shell.execute_reply": "2022-11-13T23:40:41.477394Z",
     "shell.execute_reply.started": "2022-11-13T23:40:23.879955Z"
    }
   },
   "outputs": [
    {
     "name": "stdout",
     "output_type": "stream",
     "text": [
      "Found 8892 validated image filenames belonging to 5 classes.\n",
      "Found 2223 validated image filenames belonging to 5 classes.\n",
      "Found 2780 validated image filenames belonging to 5 classes.\n"
     ]
    }
   ],
   "source": [
    "size=64\n",
    "color_mode='grayscale'\n",
    "batch_size=32\n",
    "train_images = train_generator.flow_from_dataframe(\n",
    "    dataframe=dataframe_train,\n",
    "    x_col='Filepath',\n",
    "    y_col='Label',\n",
    "    target_size=(size, size),\n",
    "    color_mode=color_mode,\n",
    "    class_mode='categorical',\n",
    "    batch_size=batch_size,\n",
    "    shuffle=True,\n",
    "    seed=42,\n",
    "    subset='training'\n",
    ")\n",
    "\n",
    "val_images = train_generator.flow_from_dataframe(\n",
    "    dataframe=dataframe_train,\n",
    "    x_col='Filepath',\n",
    "    y_col='Label',\n",
    "    target_size=(size, size),\n",
    "    color_mode=color_mode,\n",
    "    class_mode='categorical',\n",
    "    batch_size=batch_size,\n",
    "    shuffle=True,\n",
    "    seed=42,\n",
    "    subset='validation'\n",
    ")\n",
    "\n",
    "test_images = test_generator.flow_from_dataframe(\n",
    "    dataframe=dataframe_test,\n",
    "    x_col='Filepath',\n",
    "    y_col='Label',\n",
    "    target_size=(size, size),\n",
    "    color_mode=color_mode,\n",
    "    class_mode='categorical',\n",
    "    batch_size=batch_size,\n",
    "    shuffle=False\n",
    ")"
   ]
  },
  {
   "cell_type": "code",
   "execution_count": 19,
   "metadata": {
    "execution": {
     "iopub.execute_input": "2022-11-13T23:40:51.070047Z",
     "iopub.status.busy": "2022-11-13T23:40:51.069639Z",
     "iopub.status.idle": "2022-11-13T23:40:51.077069Z",
     "shell.execute_reply": "2022-11-13T23:40:51.075992Z",
     "shell.execute_reply.started": "2022-11-13T23:40:51.070010Z"
    }
   },
   "outputs": [
    {
     "data": {
      "text/plain": [
       "{'M': 0, 'N': 1, 'Q': 2, 'S': 3, 'V': 4}"
      ]
     },
     "execution_count": 19,
     "metadata": {},
     "output_type": "execute_result"
    }
   ],
   "source": [
    "test_images.class_indices"
   ]
  },
  {
   "cell_type": "markdown",
   "metadata": {},
   "source": [
    "# Modeling"
   ]
  },
  {
   "cell_type": "code",
   "execution_count": null,
   "metadata": {},
   "outputs": [],
   "source": [
    "\"\"\"\"\n",
    "from tensorflow.keras.applications.vgg16 import VGG16\n",
    "\n",
    "pretrained_model = VGG16(\n",
    "                              input_shape=(224,224,3),\n",
    "                              include_top= False,\n",
    "                              weights='imagenet',\n",
    "                              pooling='avg'\n",
    "                              )\n",
    "\n",
    "pretrained_model.trainable = False\n",
    "\"\"\"\"\""
   ]
  },
  {
   "cell_type": "code",
   "execution_count": 25,
   "metadata": {
    "execution": {
     "iopub.execute_input": "2022-11-13T23:41:31.966509Z",
     "iopub.status.busy": "2022-11-13T23:41:31.966090Z",
     "iopub.status.idle": "2022-11-13T23:41:32.070268Z",
     "shell.execute_reply": "2022-11-13T23:41:32.069024Z",
     "shell.execute_reply.started": "2022-11-13T23:41:31.966474Z"
    }
   },
   "outputs": [
    {
     "name": "stdout",
     "output_type": "stream",
     "text": [
      "Model: \"sequential_2\"\n",
      "_________________________________________________________________\n",
      "Layer (type)                 Output Shape              Param #   \n",
      "=================================================================\n",
      "conv2d_12 (Conv2D)           (None, 64, 64, 32)        320       \n",
      "_________________________________________________________________\n",
      "conv2d_13 (Conv2D)           (None, 62, 62, 32)        9248      \n",
      "_________________________________________________________________\n",
      "max_pooling2d_6 (MaxPooling2 (None, 31, 31, 32)        0         \n",
      "_________________________________________________________________\n",
      "dropout_8 (Dropout)          (None, 31, 31, 32)        0         \n",
      "_________________________________________________________________\n",
      "conv2d_14 (Conv2D)           (None, 31, 31, 64)        18496     \n",
      "_________________________________________________________________\n",
      "conv2d_15 (Conv2D)           (None, 29, 29, 64)        36928     \n",
      "_________________________________________________________________\n",
      "max_pooling2d_7 (MaxPooling2 (None, 14, 14, 64)        0         \n",
      "_________________________________________________________________\n",
      "dropout_9 (Dropout)          (None, 14, 14, 64)        0         \n",
      "_________________________________________________________________\n",
      "conv2d_16 (Conv2D)           (None, 14, 14, 64)        36928     \n",
      "_________________________________________________________________\n",
      "conv2d_17 (Conv2D)           (None, 12, 12, 64)        36928     \n",
      "_________________________________________________________________\n",
      "max_pooling2d_8 (MaxPooling2 (None, 6, 6, 64)          0         \n",
      "_________________________________________________________________\n",
      "dropout_10 (Dropout)         (None, 6, 6, 64)          0         \n",
      "_________________________________________________________________\n",
      "flatten_2 (Flatten)          (None, 2304)              0         \n",
      "_________________________________________________________________\n",
      "dense_4 (Dense)              (None, 512)               1180160   \n",
      "_________________________________________________________________\n",
      "dropout_11 (Dropout)         (None, 512)               0         \n",
      "_________________________________________________________________\n",
      "dense_5 (Dense)              (None, 5)                 2565      \n",
      "=================================================================\n",
      "Total params: 1,321,573\n",
      "Trainable params: 1,321,573\n",
      "Non-trainable params: 0\n",
      "_________________________________________________________________\n"
     ]
    }
   ],
   "source": [
    "from tensorflow.keras.layers import *\n",
    "from tensorflow.keras.models import *\n",
    "\n",
    "\n",
    "\n",
    "model = Sequential ()\n",
    "model.add(Conv2D(32, (3, 3), padding='same', activation='relu', input_shape=(size,size,1)))\n",
    "model.add(Conv2D(32, (3, 3), activation='relu'))\n",
    "model.add(MaxPooling2D(pool_size=(2, 2)))\n",
    "model.add(Dropout(0.5))\n",
    "\n",
    "model.add(Conv2D(64, (3, 3), padding='same', activation='relu'))\n",
    "model.add(Conv2D(64, (3, 3), activation='relu'))\n",
    "model.add(MaxPooling2D(pool_size=(2, 2)))\n",
    "model.add(Dropout(0.5))\n",
    "\n",
    "model.add(Conv2D(64, (3, 3), padding='same', activation='relu'))\n",
    "model.add(Conv2D(64, (3, 3), activation='relu'))\n",
    "model.add(MaxPooling2D(pool_size=(2, 2)))\n",
    "model.add(Dropout(0.5))\n",
    "\n",
    "\n",
    "model.add(Flatten())\n",
    "model.add(Dense(512, activation='relu'))\n",
    "model.add(Dropout(0.5))\n",
    "model.add(Dense(5, activation='softmax'))\n",
    "\n",
    "model.summary()"
   ]
  },
  {
   "cell_type": "code",
   "execution_count": 26,
   "metadata": {
    "execution": {
     "iopub.execute_input": "2022-11-13T23:41:35.364123Z",
     "iopub.status.busy": "2022-11-13T23:41:35.363514Z",
     "iopub.status.idle": "2022-11-13T23:41:35.369512Z",
     "shell.execute_reply": "2022-11-13T23:41:35.368456Z",
     "shell.execute_reply.started": "2022-11-13T23:41:35.364081Z"
    }
   },
   "outputs": [],
   "source": [
    "import keras\n",
    "checkpoint = keras.callbacks.ModelCheckpoint(\n",
    "    filepath='best_model.h5',\n",
    "    save_weights_only=False,\n",
    "    monitor='val_accuracy',\n",
    "    mode='max',\n",
    "    save_best_only=True,\n",
    "    verbose=1)"
   ]
  },
  {
   "cell_type": "code",
   "execution_count": 28,
   "metadata": {
    "execution": {
     "iopub.execute_input": "2022-11-13T23:41:38.584577Z",
     "iopub.status.busy": "2022-11-13T23:41:38.584195Z",
     "iopub.status.idle": "2022-11-13T23:41:38.595690Z",
     "shell.execute_reply": "2022-11-13T23:41:38.594536Z",
     "shell.execute_reply.started": "2022-11-13T23:41:38.584544Z"
    }
   },
   "outputs": [],
   "source": [
    "model.compile(\n",
    "    optimizer='adam',\n",
    "    loss='categorical_crossentropy',\n",
    "    metrics=['accuracy']\n",
    ")"
   ]
  },
  {
   "cell_type": "code",
   "execution_count": 29,
   "metadata": {
    "execution": {
     "iopub.execute_input": "2022-11-13T23:41:40.780546Z",
     "iopub.status.busy": "2022-11-13T23:41:40.779564Z",
     "iopub.status.idle": "2022-11-14T00:14:36.453529Z",
     "shell.execute_reply": "2022-11-14T00:14:36.452403Z",
     "shell.execute_reply.started": "2022-11-13T23:41:40.780507Z"
    }
   },
   "outputs": [
    {
     "name": "stdout",
     "output_type": "stream",
     "text": [
      "Epoch 1/40\n",
      "278/278 [==============================] - 51s 178ms/step - loss: 1.5666 - accuracy: 0.2410 - val_loss: 1.1112 - val_accuracy: 0.5250\n",
      "\n",
      "Epoch 00001: val_accuracy improved from -inf to 0.52497, saving model to best_model.h5\n",
      "Epoch 2/40\n",
      "278/278 [==============================] - 48s 174ms/step - loss: 0.8634 - accuracy: 0.6422 - val_loss: 0.6503 - val_accuracy: 0.7458\n",
      "\n",
      "Epoch 00002: val_accuracy improved from 0.52497 to 0.74584, saving model to best_model.h5\n",
      "Epoch 3/40\n",
      "278/278 [==============================] - 49s 175ms/step - loss: 0.6559 - accuracy: 0.7322 - val_loss: 0.5214 - val_accuracy: 0.7926\n",
      "\n",
      "Epoch 00003: val_accuracy improved from 0.74584 to 0.79262, saving model to best_model.h5\n",
      "Epoch 4/40\n",
      "278/278 [==============================] - 49s 175ms/step - loss: 0.5579 - accuracy: 0.7736 - val_loss: 0.4506 - val_accuracy: 0.8313\n",
      "\n",
      "Epoch 00004: val_accuracy improved from 0.79262 to 0.83131, saving model to best_model.h5\n",
      "Epoch 5/40\n",
      "278/278 [==============================] - 48s 174ms/step - loss: 0.4944 - accuracy: 0.8018 - val_loss: 0.3988 - val_accuracy: 0.8529\n",
      "\n",
      "Epoch 00005: val_accuracy improved from 0.83131 to 0.85290, saving model to best_model.h5\n",
      "Epoch 6/40\n",
      "278/278 [==============================] - 49s 175ms/step - loss: 0.4581 - accuracy: 0.8138 - val_loss: 0.3927 - val_accuracy: 0.8484\n",
      "\n",
      "Epoch 00006: val_accuracy did not improve from 0.85290\n",
      "Epoch 7/40\n",
      "278/278 [==============================] - 48s 173ms/step - loss: 0.4261 - accuracy: 0.8321 - val_loss: 0.3607 - val_accuracy: 0.8614\n",
      "\n",
      "Epoch 00007: val_accuracy improved from 0.85290 to 0.86145, saving model to best_model.h5\n",
      "Epoch 8/40\n",
      "278/278 [==============================] - 49s 175ms/step - loss: 0.3947 - accuracy: 0.8493 - val_loss: 0.3471 - val_accuracy: 0.8691\n",
      "\n",
      "Epoch 00008: val_accuracy improved from 0.86145 to 0.86910, saving model to best_model.h5\n",
      "Epoch 9/40\n",
      "278/278 [==============================] - 49s 175ms/step - loss: 0.3729 - accuracy: 0.8590 - val_loss: 0.3406 - val_accuracy: 0.8718\n",
      "\n",
      "Epoch 00009: val_accuracy improved from 0.86910 to 0.87179, saving model to best_model.h5\n",
      "Epoch 10/40\n",
      "278/278 [==============================] - 49s 175ms/step - loss: 0.3453 - accuracy: 0.8671 - val_loss: 0.2992 - val_accuracy: 0.8898\n",
      "\n",
      "Epoch 00010: val_accuracy improved from 0.87179 to 0.88979, saving model to best_model.h5\n",
      "Epoch 11/40\n",
      "278/278 [==============================] - 49s 175ms/step - loss: 0.3304 - accuracy: 0.8739 - val_loss: 0.2998 - val_accuracy: 0.8866\n",
      "\n",
      "Epoch 00011: val_accuracy did not improve from 0.88979\n",
      "Epoch 12/40\n",
      "278/278 [==============================] - 49s 175ms/step - loss: 0.3141 - accuracy: 0.8767 - val_loss: 0.3023 - val_accuracy: 0.8866\n",
      "\n",
      "Epoch 00012: val_accuracy did not improve from 0.88979\n",
      "Epoch 13/40\n",
      "278/278 [==============================] - 49s 177ms/step - loss: 0.3018 - accuracy: 0.8829 - val_loss: 0.2915 - val_accuracy: 0.8911\n",
      "\n",
      "Epoch 00013: val_accuracy improved from 0.88979 to 0.89114, saving model to best_model.h5\n",
      "Epoch 14/40\n",
      "278/278 [==============================] - 49s 175ms/step - loss: 0.2922 - accuracy: 0.8924 - val_loss: 0.2845 - val_accuracy: 0.8947\n",
      "\n",
      "Epoch 00014: val_accuracy improved from 0.89114 to 0.89474, saving model to best_model.h5\n",
      "Epoch 15/40\n",
      "278/278 [==============================] - 49s 176ms/step - loss: 0.2844 - accuracy: 0.8910 - val_loss: 0.2711 - val_accuracy: 0.9006\n",
      "\n",
      "Epoch 00015: val_accuracy improved from 0.89474 to 0.90058, saving model to best_model.h5\n",
      "Epoch 16/40\n",
      "278/278 [==============================] - 49s 175ms/step - loss: 0.2811 - accuracy: 0.8941 - val_loss: 0.2702 - val_accuracy: 0.9055\n",
      "\n",
      "Epoch 00016: val_accuracy improved from 0.90058 to 0.90553, saving model to best_model.h5\n",
      "Epoch 17/40\n",
      "278/278 [==============================] - 49s 175ms/step - loss: 0.2630 - accuracy: 0.9004 - val_loss: 0.2819 - val_accuracy: 0.8970\n",
      "\n",
      "Epoch 00017: val_accuracy did not improve from 0.90553\n",
      "Epoch 18/40\n",
      "278/278 [==============================] - 49s 176ms/step - loss: 0.2602 - accuracy: 0.9002 - val_loss: 0.2529 - val_accuracy: 0.9073\n",
      "\n",
      "Epoch 00018: val_accuracy improved from 0.90553 to 0.90733, saving model to best_model.h5\n",
      "Epoch 19/40\n",
      "278/278 [==============================] - 49s 177ms/step - loss: 0.2462 - accuracy: 0.9094 - val_loss: 0.2845 - val_accuracy: 0.9055\n",
      "\n",
      "Epoch 00019: val_accuracy did not improve from 0.90733\n",
      "Epoch 20/40\n",
      "278/278 [==============================] - 49s 176ms/step - loss: 0.2451 - accuracy: 0.9068 - val_loss: 0.2582 - val_accuracy: 0.9033\n",
      "\n",
      "Epoch 00020: val_accuracy did not improve from 0.90733\n",
      "Epoch 21/40\n",
      "278/278 [==============================] - 49s 176ms/step - loss: 0.2313 - accuracy: 0.9113 - val_loss: 0.2636 - val_accuracy: 0.9010\n",
      "\n",
      "Epoch 00021: val_accuracy did not improve from 0.90733\n",
      "Epoch 22/40\n",
      "278/278 [==============================] - 49s 176ms/step - loss: 0.2328 - accuracy: 0.9154 - val_loss: 0.2476 - val_accuracy: 0.9082\n",
      "\n",
      "Epoch 00022: val_accuracy improved from 0.90733 to 0.90823, saving model to best_model.h5\n",
      "Epoch 23/40\n",
      "278/278 [==============================] - 47s 168ms/step - loss: 0.2198 - accuracy: 0.9159 - val_loss: 0.2456 - val_accuracy: 0.9132\n",
      "\n",
      "Epoch 00023: val_accuracy improved from 0.90823 to 0.91318, saving model to best_model.h5\n",
      "Epoch 24/40\n",
      "278/278 [==============================] - 46s 167ms/step - loss: 0.2131 - accuracy: 0.9195 - val_loss: 0.2480 - val_accuracy: 0.9114\n",
      "\n",
      "Epoch 00024: val_accuracy did not improve from 0.91318\n",
      "Epoch 25/40\n",
      "278/278 [==============================] - 47s 167ms/step - loss: 0.2201 - accuracy: 0.9184 - val_loss: 0.2612 - val_accuracy: 0.9114\n",
      "\n",
      "Epoch 00025: val_accuracy did not improve from 0.91318\n",
      "Epoch 26/40\n",
      "278/278 [==============================] - 46s 166ms/step - loss: 0.2051 - accuracy: 0.9260 - val_loss: 0.2450 - val_accuracy: 0.9168\n",
      "\n",
      "Epoch 00026: val_accuracy improved from 0.91318 to 0.91678, saving model to best_model.h5\n",
      "Epoch 27/40\n",
      "278/278 [==============================] - 46s 166ms/step - loss: 0.2031 - accuracy: 0.9206 - val_loss: 0.2396 - val_accuracy: 0.9132\n",
      "\n",
      "Epoch 00027: val_accuracy did not improve from 0.91678\n",
      "Epoch 28/40\n",
      "278/278 [==============================] - 46s 167ms/step - loss: 0.2011 - accuracy: 0.9233 - val_loss: 0.2409 - val_accuracy: 0.9109\n",
      "\n",
      "Epoch 00028: val_accuracy did not improve from 0.91678\n",
      "Epoch 29/40\n",
      "278/278 [==============================] - 46s 166ms/step - loss: 0.1919 - accuracy: 0.9265 - val_loss: 0.2413 - val_accuracy: 0.9181\n",
      "\n",
      "Epoch 00029: val_accuracy improved from 0.91678 to 0.91813, saving model to best_model.h5\n",
      "Epoch 30/40\n",
      "278/278 [==============================] - 46s 166ms/step - loss: 0.1927 - accuracy: 0.9275 - val_loss: 0.2510 - val_accuracy: 0.9114\n",
      "\n",
      "Epoch 00030: val_accuracy did not improve from 0.91813\n",
      "Epoch 31/40\n",
      "278/278 [==============================] - 46s 165ms/step - loss: 0.1922 - accuracy: 0.9269 - val_loss: 0.2375 - val_accuracy: 0.9195\n",
      "\n",
      "Epoch 00031: val_accuracy improved from 0.91813 to 0.91948, saving model to best_model.h5\n",
      "Epoch 32/40\n",
      "278/278 [==============================] - 46s 166ms/step - loss: 0.1810 - accuracy: 0.9326 - val_loss: 0.2433 - val_accuracy: 0.9159\n",
      "\n",
      "Epoch 00032: val_accuracy did not improve from 0.91948\n",
      "Epoch 33/40\n",
      "278/278 [==============================] - 46s 165ms/step - loss: 0.1856 - accuracy: 0.9291 - val_loss: 0.2309 - val_accuracy: 0.9163\n",
      "\n",
      "Epoch 00033: val_accuracy did not improve from 0.91948\n",
      "Epoch 34/40\n",
      "278/278 [==============================] - 46s 166ms/step - loss: 0.1753 - accuracy: 0.9361 - val_loss: 0.2392 - val_accuracy: 0.9150\n",
      "\n",
      "Epoch 00034: val_accuracy did not improve from 0.91948\n",
      "Epoch 35/40\n",
      "278/278 [==============================] - 46s 166ms/step - loss: 0.1777 - accuracy: 0.9332 - val_loss: 0.2423 - val_accuracy: 0.9141\n",
      "\n",
      "Epoch 00035: val_accuracy did not improve from 0.91948\n",
      "Epoch 36/40\n",
      "278/278 [==============================] - 46s 166ms/step - loss: 0.1828 - accuracy: 0.9306 - val_loss: 0.2273 - val_accuracy: 0.9154\n",
      "\n",
      "Epoch 00036: val_accuracy did not improve from 0.91948\n",
      "Epoch 37/40\n",
      "278/278 [==============================] - 46s 166ms/step - loss: 0.1679 - accuracy: 0.9383 - val_loss: 0.2384 - val_accuracy: 0.9217\n",
      "\n",
      "Epoch 00037: val_accuracy improved from 0.91948 to 0.92173, saving model to best_model.h5\n",
      "Epoch 38/40\n",
      "278/278 [==============================] - 46s 166ms/step - loss: 0.1676 - accuracy: 0.9347 - val_loss: 0.2372 - val_accuracy: 0.9159\n",
      "\n",
      "Epoch 00038: val_accuracy did not improve from 0.92173\n",
      "Epoch 39/40\n",
      "278/278 [==============================] - 46s 167ms/step - loss: 0.1666 - accuracy: 0.9380 - val_loss: 0.2315 - val_accuracy: 0.9195\n",
      "\n",
      "Epoch 00039: val_accuracy did not improve from 0.92173\n",
      "Epoch 40/40\n",
      "278/278 [==============================] - 46s 165ms/step - loss: 0.1672 - accuracy: 0.9370 - val_loss: 0.2395 - val_accuracy: 0.9163\n",
      "\n",
      "Epoch 00040: val_accuracy did not improve from 0.92173\n",
      "CPU times: user 24min 46s, sys: 45.6 s, total: 25min 31s\n",
      "Wall time: 32min 55s\n"
     ]
    }
   ],
   "source": [
    "%%time\n",
    "result=model.fit(\n",
    "    train_images,\n",
    "    validation_data=val_images,\n",
    "    epochs=40,\n",
    "    callbacks=[checkpoint]\n",
    ")\n"
   ]
  },
  {
   "cell_type": "markdown",
   "metadata": {},
   "source": [
    "# Result"
   ]
  },
  {
   "cell_type": "code",
   "execution_count": 30,
   "metadata": {
    "execution": {
     "iopub.execute_input": "2022-11-14T00:16:21.702796Z",
     "iopub.status.busy": "2022-11-14T00:16:21.702301Z",
     "iopub.status.idle": "2022-11-14T00:16:55.548901Z",
     "shell.execute_reply": "2022-11-14T00:16:55.547784Z",
     "shell.execute_reply.started": "2022-11-14T00:16:21.702749Z"
    }
   },
   "outputs": [
    {
     "name": "stdout",
     "output_type": "stream",
     "text": [
      "    Test Loss: 0.26851\n",
      "Test Accuracy: 91.08%\n"
     ]
    }
   ],
   "source": [
    "from keras.models import load_model\n",
    "best_model=load_model('./best_model.h5')\n",
    "results = best_model.evaluate(test_images, verbose=0)\n",
    "\n",
    "print(\"    Test Loss: {:.5f}\".format(results[0]))\n",
    "print(\"Test Accuracy: {:.2f}%\".format(results[1] * 100))"
   ]
  },
  {
   "cell_type": "code",
   "execution_count": null,
   "metadata": {},
   "outputs": [],
   "source": [
    "model.save('ECG-rgb,version9,train99,val100,test100.h5')"
   ]
  },
  {
   "cell_type": "markdown",
   "metadata": {},
   "source": [
    "<a href='./best_model.h5'>download</a>"
   ]
  },
  {
   "cell_type": "code",
   "execution_count": 31,
   "metadata": {
    "execution": {
     "iopub.execute_input": "2022-11-14T00:19:12.586685Z",
     "iopub.status.busy": "2022-11-14T00:19:12.586215Z",
     "iopub.status.idle": "2022-11-14T00:19:12.899991Z",
     "shell.execute_reply": "2022-11-14T00:19:12.898882Z",
     "shell.execute_reply.started": "2022-11-14T00:19:12.586650Z"
    }
   },
   "outputs": [
    {
     "data": {
      "text/plain": [
       "Text(0.5, 0, 'epoch')"
      ]
     },
     "execution_count": 31,
     "metadata": {},
     "output_type": "execute_result"
    },
    {
     "data": {
      "image/png": "[encoded data removed]",
      "text/plain": [
       "<Figure size 432x288 with 1 Axes>"
      ]
     },
     "metadata": {
      "needs_background": "light"
     },
     "output_type": "display_data"
    }
   ],
   "source": [
    "import matplotlib.pyplot as plt\n",
    "\n",
    "plt.plot(result.history['loss'])\n",
    "plt.plot(result.history['val_loss'])\n",
    "plt.legend(['Training', 'Validation'])\n",
    "plt.title('Training and Validation losses')\n",
    "plt.xlabel('epoch')"
   ]
  },
  {
   "cell_type": "code",
   "execution_count": 32,
   "metadata": {
    "execution": {
     "iopub.execute_input": "2022-11-14T00:19:28.149488Z",
     "iopub.status.busy": "2022-11-14T00:19:28.148872Z",
     "iopub.status.idle": "2022-11-14T00:19:28.412107Z",
     "shell.execute_reply": "2022-11-14T00:19:28.411094Z",
     "shell.execute_reply.started": "2022-11-14T00:19:28.149450Z"
    }
   },
   "outputs": [
    {
     "data": {
      "text/plain": [
       "Text(0.5, 0, 'epoch')"
      ]
     },
     "execution_count": 32,
     "metadata": {},
     "output_type": "execute_result"
    },
    {
     "data": {
      "image/png": "[encoded data removed]",
      "text/plain": [
       "<Figure size 432x288 with 1 Axes>"
      ]
     },
     "metadata": {
      "needs_background": "light"
     },
     "output_type": "display_data"
    }
   ],
   "source": [
    "plt.plot(result.history['accuracy'])\n",
    "plt.plot(result.history['val_accuracy'])\n",
    "plt.legend(['Training', 'Validation'])\n",
    "plt.title('Training and Validation binary_accuracy')\n",
    "plt.xlabel('epoch')"
   ]
  },
  {
   "cell_type": "code",
   "execution_count": 33,
   "metadata": {
    "execution": {
     "iopub.execute_input": "2022-11-14T00:19:50.178059Z",
     "iopub.status.busy": "2022-11-14T00:19:50.177649Z",
     "iopub.status.idle": "2022-11-14T00:20:01.245089Z",
     "shell.execute_reply": "2022-11-14T00:20:01.244017Z",
     "shell.execute_reply.started": "2022-11-14T00:19:50.178024Z"
    }
   },
   "outputs": [
    {
     "data": {
      "text/plain": [
       "array([[3.04751597e-06, 3.38918483e-07, 6.03136874e-09, 2.45154924e-10,\n",
       "        9.99996662e-01],\n",
       "       [3.57728140e-06, 8.67695417e-06, 1.77200627e-06, 1.69542341e-06,\n",
       "        9.99984264e-01],\n",
       "       [3.76527325e-08, 1.53904466e-07, 7.08798797e-13, 9.99999762e-01,\n",
       "        7.15602057e-12],\n",
       "       ...,\n",
       "       [9.84780669e-01, 1.34125147e-02, 1.11143360e-11, 1.80682982e-03,\n",
       "        1.94587138e-10],\n",
       "       [1.00830775e-02, 9.09655750e-01, 3.71530838e-02, 1.72309689e-02,\n",
       "        2.58769598e-02],\n",
       "       [9.99119580e-01, 8.13806662e-04, 3.37510193e-11, 6.65202970e-05,\n",
       "        7.39629746e-10]], dtype=float32)"
      ]
     },
     "execution_count": 33,
     "metadata": {},
     "output_type": "execute_result"
    }
   ],
   "source": [
    "y_pred = best_model.predict(test_images)\n",
    "y_pred"
   ]
  },
  {
   "cell_type": "code",
   "execution_count": 34,
   "metadata": {
    "execution": {
     "iopub.execute_input": "2022-11-14T00:20:05.865784Z",
     "iopub.status.busy": "2022-11-14T00:20:05.865065Z",
     "iopub.status.idle": "2022-11-14T00:20:05.873552Z",
     "shell.execute_reply": "2022-11-14T00:20:05.872424Z",
     "shell.execute_reply.started": "2022-11-14T00:20:05.865743Z"
    }
   },
   "outputs": [
    {
     "data": {
      "text/plain": [
       "array([4, 4, 3, ..., 0, 1, 0])"
      ]
     },
     "execution_count": 34,
     "metadata": {},
     "output_type": "execute_result"
    }
   ],
   "source": [
    "y_pred = np.argmax(y_pred, axis=1)\n",
    "y_pred"
   ]
  },
  {
   "cell_type": "markdown",
   "metadata": {},
   "source": [
    "# classification report & confusion matrix"
   ]
  },
  {
   "cell_type": "code",
   "execution_count": 35,
   "metadata": {
    "execution": {
     "iopub.execute_input": "2022-11-14T00:20:11.452063Z",
     "iopub.status.busy": "2022-11-14T00:20:11.451322Z",
     "iopub.status.idle": "2022-11-14T00:20:11.802407Z",
     "shell.execute_reply": "2022-11-14T00:20:11.801252Z",
     "shell.execute_reply.started": "2022-11-14T00:20:11.452023Z"
    }
   },
   "outputs": [
    {
     "name": "stdout",
     "output_type": "stream",
     "text": [
      "[[526  22   2   5   1]\n",
      " [ 39 460   2  42  13]\n",
      " [  7  18 516   3  12]\n",
      " [  8  45   1 493   9]\n",
      " [  7   6   1   5 537]]\n",
      "classification report\n",
      "              precision    recall  f1-score   support\n",
      "\n",
      "           0       0.90      0.95      0.92       556\n",
      "           1       0.83      0.83      0.83       556\n",
      "           2       0.99      0.93      0.96       556\n",
      "           3       0.90      0.89      0.89       556\n",
      "           4       0.94      0.97      0.95       556\n",
      "\n",
      "    accuracy                           0.91      2780\n",
      "   macro avg       0.91      0.91      0.91      2780\n",
      "weighted avg       0.91      0.91      0.91      2780\n",
      "\n"
     ]
    }
   ],
   "source": [
    "from sklearn.metrics import confusion_matrix, classification_report\n",
    "\n",
    "\n",
    "cm = confusion_matrix(test_images.labels, y_pred)\n",
    "print(cm)\n",
    "print('classification report')\n",
    "print( classification_report(test_images.labels, y_pred))\n"
   ]
  },
  {
   "cell_type": "markdown",
   "metadata": {},
   "source": [
    "# ploting the confusion matrix\n"
   ]
  },
  {
   "cell_type": "code",
   "execution_count": 38,
   "metadata": {
    "execution": {
     "iopub.execute_input": "2022-11-14T00:22:45.671850Z",
     "iopub.status.busy": "2022-11-14T00:22:45.671398Z",
     "iopub.status.idle": "2022-11-14T00:22:49.948797Z",
     "shell.execute_reply": "2022-11-14T00:22:49.947669Z",
     "shell.execute_reply.started": "2022-11-14T00:22:45.671812Z"
    }
   },
   "outputs": [
    {
     "data": {
      "image/png": "[encoded data removed]",
      "text/plain": [
       "<Figure size 576x432 with 2 Axes>"
      ]
     },
     "metadata": {
      "needs_background": "light"
     },
     "output_type": "display_data"
    },
    {
     "data": {
      "image/png": "[encoded data removed]",
      "text/plain": [
       "<Figure size 576x432 with 2 Axes>"
      ]
     },
     "metadata": {
      "needs_background": "light"
     },
     "output_type": "display_data"
    }
   ],
   "source": [
    "import itertools\n",
    "\n",
    "def plot_confusion_matrix(cm, target_names, title='Confusion matrix', cmap=None, normalize=False):\n",
    "    \"\"\"\n",
    "    arguments\n",
    "    ---------\n",
    "    cm:           confusion matrix from sklearn.metrics.confusion_matrix\n",
    "\n",
    "    target_names: given classification classes such as [0, 1, 2]\n",
    "                  the class names, for example: ['high', 'medium', 'low']\n",
    "\n",
    "    title:        the text to display at the top of the matrix\n",
    "\n",
    "    cmap:         the gradient of the values displayed from matplotlib.pyplot.cm\n",
    "                  see http://matplotlib.org/examples/color/colormaps_reference.html\n",
    "\n",
    "    normalize:    If False, plot the raw numbers\n",
    "                  If True, plot the proportions\n",
    "    \"\"\"\n",
    "     \n",
    "    if cmap is None:\n",
    "        cmap = plt.get_cmap('Oranges')\n",
    "\n",
    "    plt.figure(figsize=(8, 6))\n",
    "    plt.imshow(cm, interpolation='nearest', cmap=cmap)\n",
    "    plt.title(title)\n",
    "    plt.colorbar()\n",
    "    \n",
    "    if target_names is not None:\n",
    "        tick_marks = np.arange(len(target_names))\n",
    "        plt.xticks(tick_marks, target_names, rotation=45)\n",
    "        plt.yticks(tick_marks, target_names)\n",
    "\n",
    "    if normalize:\n",
    "        cm = cm.astype('float') / cm.sum(axis=1)[:, np.newaxis]\n",
    "\n",
    "\n",
    "    thresh = cm.max() / 1.5 if normalize else cm.max() / 2\n",
    "    for i, j in itertools.product(range(cm.shape[0]), range(cm.shape[1])):\n",
    "        if normalize:\n",
    "            plt.text(j, i, \"{:0.4f}\".format(cm[i, j]),\n",
    "                     horizontalalignment=\"center\",\n",
    "                     color=\"white\" if cm[i, j] > thresh else \"black\")\n",
    "        else:\n",
    "            plt.text(j, i, \"{:,}\".format(cm[i, j]),\n",
    "                     horizontalalignment=\"center\",\n",
    "                     color=\"white\" if cm[i, j] > thresh else \"black\")\n",
    "\n",
    "\n",
    "    plt.tight_layout()\n",
    "    plt.ylim(len(target_names)-0.5, -0.5)\n",
    "    plt.ylabel('True labels')\n",
    "    plt.xlabel('Predicted labels')\n",
    "    plt.savefig(title + '.png', dpi=500, bbox_inches = 'tight')\n",
    "    plt.show()\n",
    "    \n",
    "    \n",
    "    \n",
    "# a tuple for all the class names\n",
    "target_names = ('M', 'N', 'Q', 'S', 'V' )\n",
    "plot_confusion_matrix(cm, target_names)\n",
    "plot_confusion_matrix(cm, target_names,normalize=True)\n"
   ]
  }
 ],
 "metadata": {
  "kernelspec": {
   "display_name": "Python 3 (ipykernel)",
   "language": "python",
   "name": "python3"
  },
  "language_info": {
   "codemirror_mode": {
    "name": "ipython",
    "version": 3
   },
   "file_extension": ".py",
   "mimetype": "text/x-python",
   "name": "python",
   "nbconvert_exporter": "python",
   "pygments_lexer": "ipython3",
   "version": "3.9.12"
  }
 },
 "nbformat": 4,
 "nbformat_minor": 4
}
